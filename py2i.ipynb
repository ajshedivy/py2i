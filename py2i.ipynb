{
 "cells": [
  {
   "cell_type": "code",
   "execution_count": 51,
   "metadata": {},
   "outputs": [],
   "source": [
    "from typing import List, Dict, Any, Union\n",
    "import os"
   ]
  },
  {
   "cell_type": "code",
   "execution_count": 52,
   "metadata": {},
   "outputs": [],
   "source": [
    "data = os.path.abspath(\"data/german_credit_data_biased_training.csv\")"
   ]
  },
  {
   "cell_type": "markdown",
   "metadata": {},
   "source": [
    "## Gather dataset column information"
   ]
  },
  {
   "cell_type": "code",
   "execution_count": 53,
   "metadata": {},
   "outputs": [],
   "source": [
    "from pathlib import Path\n",
    "import pandas as pd\n",
    "import numpy as np\n",
    "import json\n",
    "\n",
    "def load_data(data_path: Union[str, Path]):\n",
    "    df = pd.read_csv(data_path)\n",
    "\n",
    "    for col in df.columns:\n",
    "        if df[col].dtype == np.dtype(\"O\"):\n",
    "            df[col] = df[col].astype(\"category\")\n",
    "\n",
    "    column_map: Dict[str, Any] = {}\n",
    "    column_map[\"columns\"] = list(df.columns)\n",
    "    column_map[\"label_columns\"] = {}\n",
    "    column_map[\"column_types\"] = {}\n",
    "    \n",
    "    for col in column_map[\"columns\"]:\n",
    "        if isinstance(df[col].dtype, pd.CategoricalDtype):\n",
    "            column_map[\"label_columns\"][col] = list(df[col].dtype.categories)\n",
    "        \n",
    "        dtype_str = str(df[col].dtype)\n",
    "        if dtype_str != \"category\":\n",
    "            if dtype_str not in column_map[\"column_types\"]:\n",
    "                column_map[\"column_types\"][dtype_str] = []\n",
    "            column_map[\"column_types\"][dtype_str].append(col)\n",
    "    return df, column_map\n"
   ]
  },
  {
   "cell_type": "code",
   "execution_count": 54,
   "metadata": {},
   "outputs": [
    {
     "data": {
      "text/plain": [
       "{'columns': ['CheckingStatus',\n",
       "  'LoanDuration',\n",
       "  'CreditHistory',\n",
       "  'LoanPurpose',\n",
       "  'LoanAmount',\n",
       "  'ExistingSavings',\n",
       "  'EmploymentDuration',\n",
       "  'InstallmentPercent',\n",
       "  'Sex',\n",
       "  'OthersOnLoan',\n",
       "  'CurrentResidenceDuration',\n",
       "  'OwnsProperty',\n",
       "  'Age',\n",
       "  'InstallmentPlans',\n",
       "  'Housing',\n",
       "  'ExistingCreditsCount',\n",
       "  'Job',\n",
       "  'Dependents',\n",
       "  'Telephone',\n",
       "  'ForeignWorker',\n",
       "  'Risk'],\n",
       " 'label_columns': {'CheckingStatus': ['0_to_200',\n",
       "   'greater_200',\n",
       "   'less_0',\n",
       "   'no_checking'],\n",
       "  'CreditHistory': ['all_credits_paid_back',\n",
       "   'credits_paid_to_date',\n",
       "   'no_credits',\n",
       "   'outstanding_credit',\n",
       "   'prior_payments_delayed'],\n",
       "  'LoanPurpose': ['appliances',\n",
       "   'business',\n",
       "   'car_new',\n",
       "   'car_used',\n",
       "   'education',\n",
       "   'furniture',\n",
       "   'other',\n",
       "   'radio_tv',\n",
       "   'repairs',\n",
       "   'retraining',\n",
       "   'vacation'],\n",
       "  'ExistingSavings': ['100_to_500',\n",
       "   '500_to_1000',\n",
       "   'greater_1000',\n",
       "   'less_100',\n",
       "   'unknown'],\n",
       "  'EmploymentDuration': ['1_to_4',\n",
       "   '4_to_7',\n",
       "   'greater_7',\n",
       "   'less_1',\n",
       "   'unemployed'],\n",
       "  'Sex': ['female', 'male'],\n",
       "  'OthersOnLoan': ['co-applicant', 'guarantor', 'none'],\n",
       "  'OwnsProperty': ['car_other', 'real_estate', 'savings_insurance', 'unknown'],\n",
       "  'InstallmentPlans': ['bank', 'none', 'stores'],\n",
       "  'Housing': ['free', 'own', 'rent'],\n",
       "  'Job': ['management_self-employed', 'skilled', 'unemployed', 'unskilled'],\n",
       "  'Telephone': ['none', 'yes'],\n",
       "  'ForeignWorker': ['no', 'yes'],\n",
       "  'Risk': ['No Risk', 'Risk']},\n",
       " 'column_types': {'int64': ['LoanDuration',\n",
       "   'LoanAmount',\n",
       "   'InstallmentPercent',\n",
       "   'CurrentResidenceDuration',\n",
       "   'Age',\n",
       "   'ExistingCreditsCount',\n",
       "   'Dependents']}}"
      ]
     },
     "execution_count": 54,
     "metadata": {},
     "output_type": "execute_result"
    }
   ],
   "source": [
    "g_df, german_data = load_data(data)\n",
    "german_data"
   ]
  },
  {
   "cell_type": "code",
   "execution_count": 55,
   "metadata": {},
   "outputs": [
    {
     "data": {
      "text/plain": [
       "{'columns': ['Category', 'Value1', 'Value2'],\n",
       " 'label_columns': {'Category': ['A', 'B', 'C']},\n",
       " 'column_types': {'int64': ['Value1'], 'float64': ['Value2']}}"
      ]
     },
     "execution_count": 55,
     "metadata": {},
     "output_type": "execute_result"
    }
   ],
   "source": [
    "r_df, random_data = load_data(\"data/random_data.csv\")\n",
    "random_data"
   ]
  },
  {
   "cell_type": "code",
   "execution_count": 101,
   "metadata": {},
   "outputs": [
    {
     "data": {
      "text/plain": [
       "<mapepire_python.core.connection.Connection at 0x13a524950>"
      ]
     },
     "execution_count": 101,
     "metadata": {},
     "output_type": "execute_result"
    }
   ],
   "source": [
    "from mapepire_python import Connection, connect\n",
    "\n",
    "\n",
    "def get_mapepire_conn(config: Union[str, Path], **kwargs) -> Connection:\n",
    "    return connect(config, **kwargs)\n",
    "\n",
    "\n",
    "\n",
    "db2 = get_mapepire_conn(\"connect.ini\")\n",
    "db2"
   ]
  },
  {
   "cell_type": "markdown",
   "metadata": {},
   "source": [
    "## Test Connection with simple fetch"
   ]
  },
  {
   "cell_type": "code",
   "execution_count": 74,
   "metadata": {},
   "outputs": [
    {
     "data": {
      "text/plain": [
       "{'id': 'fetchMore4',\n",
       " 'data': [{'EMPNO': '000010',\n",
       "   'FIRSTNME': 'CHRISTINE',\n",
       "   'MIDINIT': 'I',\n",
       "   'LASTNAME': 'HAAS',\n",
       "   'WORKDEPT': 'A00',\n",
       "   'PHONENO': '3978',\n",
       "   'HIREDATE': '01/01/65',\n",
       "   'JOB': 'PRES',\n",
       "   'EDLEVEL': 18,\n",
       "   'SEX': 'F',\n",
       "   'BIRTHDATE': None,\n",
       "   'SALARY': 158250.0,\n",
       "   'BONUS': 4000.0,\n",
       "   'COMM': 4220.0}],\n",
       " 'is_done': False,\n",
       " 'success': True}"
      ]
     },
     "execution_count": 74,
     "metadata": {},
     "output_type": "execute_result"
    }
   ],
   "source": [
    "cur = db2.execute('select * from sample.employee')\n",
    "cur.fetchone()"
   ]
  },
  {
   "cell_type": "markdown",
   "metadata": {},
   "source": [
    "## Utils"
   ]
  },
  {
   "cell_type": "code",
   "execution_count": 102,
   "metadata": {},
   "outputs": [],
   "source": [
    "from mapepire_python.client import SQLJob\n",
    "\n",
    "sql_types = {\n",
    "    'int64': 'INTEGER',\n",
    "    'float64': 'DOUBLE',\n",
    "    'object': 'VARCHAR',\n",
    "    'bool': 'BOOLEAN',\n",
    "    'datetime64[ns]': 'TIMESTAMP',\n",
    "    'timedelta[ns]': 'INTERVAL',\n",
    "    'category': 'VARCHAR'\n",
    "}\n",
    "\n",
    "def table_exists(table_name: str, conn: Connection) -> Union[dict, bool]:\n",
    "    pass\n",
    "\n",
    "def build_check_constraints_sql(\n",
    "    table_name: str, column_info: Dict[str, Any]\n",
    ") -> List[str]:\n",
    "    constraints = []\n",
    "    for label_col, levels in column_info[\"label_columns\"].items():\n",
    "        str_levels = [\"'\" + level.replace(\"'\", \"''\") + \"'\" for level in levels]\n",
    "        constraints.append(f\"CHECK ({label_col} IN ({','.join(str_levels)}))\")\n",
    "    return constraints\n",
    "\n",
    "def build_create_table_sql(\n",
    "    name: str, column_info: Dict[str, Any], identity_start: int = 1\n",
    ") -> str:\n",
    "    sql_safe_table_name = name\n",
    "\n",
    "    cols_sql = []\n",
    "    for col in column_info[\"label_columns\"]:\n",
    "        cols_sql.append(f\"{col} VARCHAR(32000) NOT NULL\")\n",
    "    \n",
    "    for col_type, cols in column_info[\"column_types\"].items():\n",
    "        for col in cols:\n",
    "            cols_sql.append(f\" {col} {sql_types[col_type]} NOT NULL\")\n",
    "    return (\n",
    "        f\"CREATE or REPLACE TABLE {sql_safe_table_name} (\"\n",
    "        + f\"ACCOUNT_ID BIGINT GENERATED BY DEFAULT AS IDENTITY (START WITH {identity_start}),\"\n",
    "        + \", \".join(cols_sql)\n",
    "        + \", \"\n",
    "        + \", \".join(build_check_constraints_sql(name, column_info))\n",
    "        + \")\"\n",
    "    )\n",
    "    \n",
    "    \n",
    "def df_to_sql(\n",
    "    name: str,\n",
    "    conn: Connection,\n",
    "    df: pd.DataFrame,\n",
    "    columns: Dict[str, Any],\n",
    "    identity_start: int = 1,\n",
    ") -> None:\n",
    "    sql_safe_name = name.replace('\"', \"\")\n",
    "    sql = build_create_table_sql(sql_safe_name, columns, identity_start)\n",
    "\n",
    "    iStmtColsSql = \", \".join([f'{col}' for col in columns[\"columns\"]])\n",
    "    iValues = \",\".join([\"?\" for _ in range(len(columns[\"columns\"]))])\n",
    "    iSql = f'INSERT INTO {sql_safe_name} ({iStmtColsSql}) VALUES({iValues})'\n",
    "    df_values = list([list(x) for x in df.loc[:, columns[\"columns\"]].values])\n",
    "    \n",
    "    print(sql)\n",
    "    print(iSql)\n",
    "    print(df_values)\n",
    "    \n",
    "    conn.execute(sql)\n",
    "    conn.executemany(iSql, df_values)\n",
    "    "
   ]
  },
  {
   "cell_type": "code",
   "execution_count": 103,
   "metadata": {},
   "outputs": [
    {
     "name": "stdout",
     "output_type": "stream",
     "text": [
      "CREATE or REPLACE TABLE sample.randomdata (ACCOUNT_ID BIGINT GENERATED BY DEFAULT AS IDENTITY (START WITH 1),Category VARCHAR(32000) NOT NULL,  Value1 INTEGER NOT NULL,  Value2 DOUBLE NOT NULL, CHECK (Category IN ('A','B','C')))\n",
      "INSERT INTO sample.randomdata (Category, Value1, Value2) VALUES(?,?,?)\n",
      "[['A', 61, 16.685430556951093], ['A', 24, 7.143340896097039], ['A', 81, 32.54442364744264], ['C', 70, 2.820578951355013], ['C', 30, 36.09993861334124], ['C', 92, 46.927635450787506], ['B', 96, 0.0389382920507164], ['C', 84, 49.610577964560875], ['B', 84, 30.874075481385827], ['B', 97, 30.582658024414044]]\n"
     ]
    }
   ],
   "source": [
    "df_to_sql(\"sample.randomdata\", db2, r_df, random_data)"
   ]
  },
  {
   "cell_type": "code",
   "execution_count": 104,
   "metadata": {},
   "outputs": [
    {
     "data": {
      "text/plain": [
       "{'id': 'fetchMore6',\n",
       " 'data': [{'ACCOUNT_ID': 1,\n",
       "   'CATEGORY': 'A',\n",
       "   'VALUE1': 61,\n",
       "   'VALUE2': 16.685430556951093},\n",
       "  {'ACCOUNT_ID': 2,\n",
       "   'CATEGORY': 'A',\n",
       "   'VALUE1': 24,\n",
       "   'VALUE2': 7.143340896097039},\n",
       "  {'ACCOUNT_ID': 3,\n",
       "   'CATEGORY': 'A',\n",
       "   'VALUE1': 81,\n",
       "   'VALUE2': 32.54442364744264},\n",
       "  {'ACCOUNT_ID': 4,\n",
       "   'CATEGORY': 'C',\n",
       "   'VALUE1': 70,\n",
       "   'VALUE2': 2.820578951355013},\n",
       "  {'ACCOUNT_ID': 5,\n",
       "   'CATEGORY': 'C',\n",
       "   'VALUE1': 30,\n",
       "   'VALUE2': 36.09993861334124},\n",
       "  {'ACCOUNT_ID': 6,\n",
       "   'CATEGORY': 'C',\n",
       "   'VALUE1': 92,\n",
       "   'VALUE2': 46.927635450787506},\n",
       "  {'ACCOUNT_ID': 7,\n",
       "   'CATEGORY': 'B',\n",
       "   'VALUE1': 96,\n",
       "   'VALUE2': 0.0389382920507164},\n",
       "  {'ACCOUNT_ID': 8,\n",
       "   'CATEGORY': 'C',\n",
       "   'VALUE1': 84,\n",
       "   'VALUE2': 49.610577964560875},\n",
       "  {'ACCOUNT_ID': 9,\n",
       "   'CATEGORY': 'B',\n",
       "   'VALUE1': 84,\n",
       "   'VALUE2': 30.874075481385827},\n",
       "  {'ACCOUNT_ID': 10,\n",
       "   'CATEGORY': 'B',\n",
       "   'VALUE1': 97,\n",
       "   'VALUE2': 30.582658024414044},\n",
       "  {'ACCOUNT_ID': 11,\n",
       "   'CATEGORY': 'A',\n",
       "   'VALUE1': 61,\n",
       "   'VALUE2': 16.685430556951093},\n",
       "  {'ACCOUNT_ID': 12,\n",
       "   'CATEGORY': 'A',\n",
       "   'VALUE1': 24,\n",
       "   'VALUE2': 7.143340896097039},\n",
       "  {'ACCOUNT_ID': 13,\n",
       "   'CATEGORY': 'A',\n",
       "   'VALUE1': 81,\n",
       "   'VALUE2': 32.54442364744264},\n",
       "  {'ACCOUNT_ID': 14,\n",
       "   'CATEGORY': 'C',\n",
       "   'VALUE1': 70,\n",
       "   'VALUE2': 2.820578951355013},\n",
       "  {'ACCOUNT_ID': 15,\n",
       "   'CATEGORY': 'C',\n",
       "   'VALUE1': 30,\n",
       "   'VALUE2': 36.09993861334124},\n",
       "  {'ACCOUNT_ID': 16,\n",
       "   'CATEGORY': 'C',\n",
       "   'VALUE1': 92,\n",
       "   'VALUE2': 46.927635450787506},\n",
       "  {'ACCOUNT_ID': 17,\n",
       "   'CATEGORY': 'B',\n",
       "   'VALUE1': 96,\n",
       "   'VALUE2': 0.0389382920507164},\n",
       "  {'ACCOUNT_ID': 18,\n",
       "   'CATEGORY': 'C',\n",
       "   'VALUE1': 84,\n",
       "   'VALUE2': 49.610577964560875},\n",
       "  {'ACCOUNT_ID': 19,\n",
       "   'CATEGORY': 'B',\n",
       "   'VALUE1': 84,\n",
       "   'VALUE2': 30.874075481385827},\n",
       "  {'ACCOUNT_ID': 20,\n",
       "   'CATEGORY': 'B',\n",
       "   'VALUE1': 97,\n",
       "   'VALUE2': 30.582658024414044}],\n",
       " 'is_done': True,\n",
       " 'success': True}"
      ]
     },
     "execution_count": 104,
     "metadata": {},
     "output_type": "execute_result"
    }
   ],
   "source": [
    "cur = db2.execute(\"select * from sample.randomdata\")\n",
    "cur.fetchall()"
   ]
  },
  {
   "cell_type": "code",
   "execution_count": null,
   "metadata": {},
   "outputs": [],
   "source": []
  }
 ],
 "metadata": {
  "kernelspec": {
   "display_name": "py2i",
   "language": "python",
   "name": "python3"
  },
  "language_info": {
   "codemirror_mode": {
    "name": "ipython",
    "version": 3
   },
   "file_extension": ".py",
   "mimetype": "text/x-python",
   "name": "python",
   "nbconvert_exporter": "python",
   "pygments_lexer": "ipython3",
   "version": "3.12.6"
  }
 },
 "nbformat": 4,
 "nbformat_minor": 2
}
